{
 "cells": [
  {
   "cell_type": "code",
   "execution_count": null,
   "metadata": {},
   "outputs": [],
   "source": [
    "def get_item_info_from_catalog_page(new_driver, item_list, option_text = \"\"):\n",
    "    req = new_driver.page_source\n",
    "    soup = BeautifulSoup(req, \"lxml\")\n",
    "    \n",
    "    item_name = soup.find(\"div\", attrs={\"class\":\"top_summary_title__15yAr\"}).find(\"h2\").get_text()\n",
    "    item_URL_list = soup.find_all(\"a\", attrs={\"class\":\"productByMall_mall__1ITj0\"})\n",
    "    item_price_list = soup.find_all(\"td\", attrs={\"class\":re.compile(\"^productByMall_price__3F_YF\")})\n",
    "    item_shipping_charge_list = soup.find_all(\"td\", attrs={\"class\":\"productByMall_gift__W92gX\"})\n",
    "\n",
    "    for item_URL, item_price, item_shipping_charge in zip(item_URL_list, item_price_list, item_shipping_charge_list):\n",
    "        item = Item()\n",
    "        if(option_text == \"\"):\n",
    "            item.setName(item_name)\n",
    "        else:\n",
    "            item.setName(item_name + \" \" + option_text)\n",
    "        item.setURL(item_URL[\"href\"])\n",
    "        item.setPrice(int(item_price.find(\"em\")\n",
    "                          .get_text()\n",
    "                          .replace(\",\",\"\")))\n",
    "        item.setShippingCharge(int(item_shipping_charge\n",
    "                                   .get_text()\n",
    "                                   .replace(\",\",\"\")\n",
    "                                   .replace(\"원\",\"\")\n",
    "                                   .replace(\"무료배송\",\"0\")))\n",
    "        item_list.append(item)\n",
    "        \n",
    "def find_item_info_from_naver_shopping_catalog(new_driver, catalogURL, item_list):\n",
    "    new_driver.get(catalogURL)\n",
    "    \n",
    "    if(check_exists_by_class_name(new_driver, \"filter_condition_group__2SPoo\")):\n",
    "        option_container = new_driver.find_element_by_class_name(\"filter_condition_group__2SPoo\")\n",
    "        if(\"접기\" in option_container.find_element_by_class_name(\"filter_condition_more__JkBHB\").text\n",
    "           and check_exists_by_class_name(new_driver, \"filter_condition_more__JkBHB\")):\n",
    "            option_container.find_element_by_class_name(\"filter_condition_more__JkBHB\").click()\n",
    "            \n",
    "        option_list = option_container.find_elements_by_tag_name(\"li\")\n",
    "        for option in option_list:\n",
    "            option.click()\n",
    "            get_item_info_from_catalog_page(new_driver,item_list, option.text)\n",
    "            time.sleep(0.5)\n",
    "    else:\n",
    "        get_item_info_from_catalog_page(new_driver, item_list)"
   ]
  }
 ],
 "metadata": {
  "kernelspec": {
   "display_name": "Python 3",
   "language": "python",
   "name": "python3"
  },
  "language_info": {
   "codemirror_mode": {
    "name": "ipython",
    "version": 3
   },
   "file_extension": ".py",
   "mimetype": "text/x-python",
   "name": "python",
   "nbconvert_exporter": "python",
   "pygments_lexer": "ipython3",
   "version": "3.8.3"
  }
 },
 "nbformat": 4,
 "nbformat_minor": 4
}
