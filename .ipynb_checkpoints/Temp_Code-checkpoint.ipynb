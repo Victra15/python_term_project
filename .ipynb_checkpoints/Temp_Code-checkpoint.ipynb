{
 "cells": [
  {
   "cell_type": "code",
   "execution_count": 2,
   "metadata": {},
   "outputs": [
    {
     "name": "stdout",
     "output_type": "stream",
     "text": [
      "Requirement already satisfied: selenium in c:\\users\\82106\\anaconda3\\lib\\site-packages (3.141.0)\n",
      "Requirement already satisfied: urllib3 in c:\\users\\82106\\anaconda3\\lib\\site-packages (from selenium) (1.25.9)\n"
     ]
    }
   ],
   "source": [
    "!pip install selenium"
   ]
  },
  {
   "cell_type": "markdown",
   "metadata": {},
   "source": [
    "### **구현 계획**\n",
    "<br>\n",
    "1. 사용자로부터 가격을 알고자 하는 상품의 이름을 입력받고, 이로부터 각 쇼핑 사이트 검색 결과에서 상품 상세 페이지로 들어가 상품명, 상품 가격(구매 옵션 있으면 구매 옵션별 가격), 묶음배송 상품정보, 상품 상세페이지 URL을 추출함 (이때, 쇼핑몰 사이트 별로 추출하는 코드를 각각 구현함) \n",
    "<br>\n",
    "<br>\n",
    "2. 이 중, 상품명, 상품 가격, 상품 상세 페이지 URL을 csv 형태로 저장 후 사용자에게 보여줌(이때, 상품 가격이 구매 옵션별로 다른 경우 각각의 상품명을 상품명 + 구매 옵션으로 저장 후 각각의 상품 가격을 저장)\n",
    "<br>\n",
    "<br>\n",
    "3. 사용자가 검색을 통해 얻은 상품들 중 특정 한 제품만 구매하고 싶은 경우, 그 상품에 대한 정보만 나타낼수 있도록 필터링 함\n",
    "<br>\n",
    "<br>\n",
    "4. 1. 2. 3.의 과정을 통해서 구매할 상품에 대한 정보를 얻은 후, 구매할 상품이 2개 이상인 경우 묶음배송 상품으로 구매 가능한지 여부를 알아보기 위해 각각의 상품의 묶음배송 상품정보를 2.에서 사용한 방법과 마찬가지로 상품명, 상품 가격, 상품 상세페이지 URL을 csv파일로 저장 후 구매하려하는 다른 상품명으로 검색하여 일치하는 상품이 있는지 확인\n",
    "<br>\n",
    "<br>\n",
    "5. 묶음배송 상품까지 확인한 후, 구매하려는 상품들을 최저가로 구매할 수 있는 조합을 5개까지 추천(기본값, 사용자 설정에 의해 추천하는 구매 조합의 개수를 늘릴 수 있음). 추천하는 조합의 개수를 여러개로 설정하는 이유는 가격 외에 구매를 결정하는 다른 조건(리뷰, 구매자 수 등)을 고려하기 위함."
   ]
  },
  {
   "cell_type": "code",
   "execution_count": 13,
   "metadata": {},
   "outputs": [],
   "source": [
    "import requests\n",
    "import re\n",
    "import time\n",
    "\n",
    "from selenium import webdriver\n",
    "from selenium.webdriver.common.keys import Keys\n",
    "from bs4 import BeautifulSoup"
   ]
  },
  {
   "cell_type": "code",
   "execution_count": 23,
   "metadata": {},
   "outputs": [
    {
     "name": "stdout",
     "output_type": "stream",
     "text": [
      "찾을 품목 이름 입력 : 파스타\n"
     ]
    }
   ],
   "source": [
    "path = \"C:/Users/82106/Downloads/chromedriver.exe\"\n",
    "driver = webdriver.Chrome(path)\n",
    "driver.get(\"https://shopping.naver.com/\")\n",
    "\n",
    "search_box = driver.find_element_by_name(\"query\")\n",
    "\n",
    "item_name = input(prompt = \"찾을 품목 이름 입력 : \")\n",
    "search_box.send_keys(item_name)\n",
    "search_box.send_keys(Keys.RETURN)\n",
    "\n",
    "SCROLL_PAUSE_SEC = 0.5\n",
    "\n",
    "# 스크롤 높이 가져옴\n",
    "last_height = driver.execute_script(\"return document.body.scrollHeight\")\n",
    "\n",
    "while True:\n",
    "    # 끝까지 스크롤 다운\n",
    "    driver.execute_script(\"window.scrollTo(0, document.body.scrollHeight);\")\n",
    "\n",
    "    # 1초 대기\n",
    "    time.sleep(SCROLL_PAUSE_SEC)\n",
    "\n",
    "    # 스크롤 다운 후 스크롤 높이 다시 가져옴\n",
    "    new_height = driver.execute_script(\"return document.body.scrollHeight\")\n",
    "    if new_height == last_height:\n",
    "        break\n",
    "    last_height = new_height"
   ]
  },
  {
   "cell_type": "code",
   "execution_count": 27,
   "metadata": {},
   "outputs": [
    {
     "name": "stdout",
     "output_type": "stream",
     "text": [
      "대한제분 곰표 파스타면 500g 모음전 보가사리 라폰테 스파게티 마카로니 업소용 대용량\n",
      "https://shopping-phinf.pstatic.net/main_1314979/13149796576.2.jpg?type=f140\n",
      "740원\n",
      "투움바 파스타\n",
      "https://shopping-phinf.pstatic.net/main_2191887/21918871500.20200207171738.jpg?type=f140\n",
      "최저\n",
      "9,600원\n",
      "글루텐 프리 파스타면(그라노로) 400g / 쌀파스타 푸실리 아기 비건 스파게티 돌아기\n",
      "https://shopping-phinf.pstatic.net/main_8218602/82186026996.1.jpg?type=f140\n",
      "4,800원\n",
      "유기농 통밀 파스타면 스파게티\n",
      "https://shopping-phinf.pstatic.net/main_2089770/20897700638.20190918114200.jpg?type=f140\n",
      "최저\n",
      "3,780원\n",
      "청정원 에그페투치니 파스타면\n",
      "https://shopping-phinf.pstatic.net/main_2411472/24114728886.20200910222755.jpg?type=f140\n",
      "최저\n",
      "1,480원\n",
      "유기농 통밀 파스타면 500g\n",
      "https://ssl.pstatic.net/shoppingsearch/static/pc/pc-201111-171553/img/search/bpower_v1.png\n",
      "3,800원\n",
      "디벨라 링귀니 500g / 링기니 14번 500g / 파스타면\n",
      "https://ssl.pstatic.net/shoppingsearch/static/pc/pc-201111-171553/img/search/bpower_v1.png\n",
      "1,150원\n",
      "펠리체티 유기농 통밀 스파게티500g 파스타\n"
     ]
    },
    {
     "ename": "TypeError",
     "evalue": "'NoneType' object is not subscriptable",
     "output_type": "error",
     "traceback": [
      "\u001b[1;31m---------------------------------------------------------------------------\u001b[0m",
      "\u001b[1;31mTypeError\u001b[0m                                 Traceback (most recent call last)",
      "\u001b[1;32m<ipython-input-27-121a06716810>\u001b[0m in \u001b[0;36m<module>\u001b[1;34m\u001b[0m\n\u001b[0;32m      8\u001b[0m     \u001b[0mprint\u001b[0m\u001b[1;33m(\u001b[0m\u001b[0mitem\u001b[0m\u001b[1;33m.\u001b[0m\u001b[0mfind\u001b[0m\u001b[1;33m(\u001b[0m\u001b[1;34m\"a\"\u001b[0m\u001b[1;33m,\u001b[0m \u001b[0mattrs\u001b[0m\u001b[1;33m=\u001b[0m\u001b[1;33m{\u001b[0m\u001b[1;34m\"class\"\u001b[0m\u001b[1;33m:\u001b[0m\u001b[1;34m\"basicList_link__1MaTN\"\u001b[0m\u001b[1;33m}\u001b[0m\u001b[1;33m)\u001b[0m\u001b[1;33m.\u001b[0m\u001b[0mget_text\u001b[0m\u001b[1;33m(\u001b[0m\u001b[1;33m)\u001b[0m\u001b[1;33m)\u001b[0m\u001b[1;33m\u001b[0m\u001b[1;33m\u001b[0m\u001b[0m\n\u001b[0;32m      9\u001b[0m     \u001b[0mimage\u001b[0m \u001b[1;33m=\u001b[0m \u001b[0mitem\u001b[0m\u001b[1;33m.\u001b[0m\u001b[0mfind\u001b[0m\u001b[1;33m(\u001b[0m\u001b[1;34m'img'\u001b[0m\u001b[1;33m)\u001b[0m\u001b[1;33m\u001b[0m\u001b[1;33m\u001b[0m\u001b[0m\n\u001b[1;32m---> 10\u001b[1;33m     \u001b[0mprint\u001b[0m\u001b[1;33m(\u001b[0m\u001b[0mimage\u001b[0m\u001b[1;33m[\u001b[0m\u001b[1;34m'src'\u001b[0m\u001b[1;33m]\u001b[0m\u001b[1;33m)\u001b[0m\u001b[1;33m\u001b[0m\u001b[1;33m\u001b[0m\u001b[0m\n\u001b[0m\u001b[0;32m     11\u001b[0m \u001b[1;33m\u001b[0m\u001b[0m\n\u001b[0;32m     12\u001b[0m     \u001b[1;32mif\u001b[0m\u001b[1;33m(\u001b[0m\u001b[0mitem\u001b[0m\u001b[1;33m.\u001b[0m\u001b[0mfind\u001b[0m\u001b[1;33m(\u001b[0m\u001b[1;34m\"span\"\u001b[0m\u001b[1;33m,\u001b[0m \u001b[0mattrs\u001b[0m\u001b[1;33m=\u001b[0m\u001b[1;33m{\u001b[0m\u001b[1;34m\"class\"\u001b[0m\u001b[1;33m:\u001b[0m\u001b[1;34m\"price_low__2vp2A\"\u001b[0m\u001b[1;33m}\u001b[0m\u001b[1;33m)\u001b[0m\u001b[1;33m)\u001b[0m\u001b[1;33m:\u001b[0m\u001b[1;33m\u001b[0m\u001b[1;33m\u001b[0m\u001b[0m\n",
      "\u001b[1;31mTypeError\u001b[0m: 'NoneType' object is not subscriptable"
     ]
    }
   ],
   "source": [
    "req = driver.page_source\n",
    "soup = BeautifulSoup(req, \"lxml\")\n",
    "\n",
    "item_names = soup.find_all(\"li\", attrs={\"class\":\"basicList_item__2XT81\"})\n",
    "for item in item_names:\n",
    "    if(item.find(\"button\", attrs={\"class\":\"ad_ad_stk__12U34\"})):\n",
    "        continue\n",
    "    print(item.find(\"a\", attrs={\"class\":\"basicList_link__1MaTN\"}).get_text())\n",
    "    image = item.find('img')\n",
    "    print(image['src'])\n",
    "    \n",
    "    if(item.find(\"span\", attrs={\"class\":\"price_low__2vp2A\"})):\n",
    "        print(item.find(\"span\", attrs={\"class\":\"price_low__2vp2A\"}).get_text())\n",
    "        print(item.find(\"span\", attrs={\"class\":\"price_num__2WUXn\"}).get_text())\n",
    "    else:\n",
    "        print(item.find(\"span\", attrs={\"class\":\"price_num__2WUXn\"}).get_text())"
   ]
  },
  {
   "cell_type": "code",
   "execution_count": 32,
   "metadata": {},
   "outputs": [
    {
     "name": "stdout",
     "output_type": "stream",
     "text": [
      "waiting...\n"
     ]
    }
   ],
   "source": [
    "path = \"C:/Users/82106/Downloads/chromedriver.exe\"\n",
    "driver1 = webdriver.Chrome(path)\n",
    "driver1.get(\"https://shopping.naver.com/\")\n",
    "driver1.get(\"https://naver.com\")\n",
    "# driver2 = webdriver.Chrome(path)\n",
    "# driver2.get(\"https://shopping.naver.com/\")\n",
    "input(prompt=\"waiting...\")\n",
    "driver1.close()\n",
    "# driver2.close()"
   ]
  },
  {
   "cell_type": "code",
   "execution_count": null,
   "metadata": {},
   "outputs": [],
   "source": []
  }
 ],
 "metadata": {
  "kernelspec": {
   "display_name": "Python 3",
   "language": "python",
   "name": "python3"
  },
  "language_info": {
   "codemirror_mode": {
    "name": "ipython",
    "version": 3
   },
   "file_extension": ".py",
   "mimetype": "text/x-python",
   "name": "python",
   "nbconvert_exporter": "python",
   "pygments_lexer": "ipython3",
   "version": "3.8.3"
  }
 },
 "nbformat": 4,
 "nbformat_minor": 4
}
