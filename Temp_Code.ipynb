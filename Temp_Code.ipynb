{
 "cells": [
  {
   "cell_type": "markdown",
   "metadata": {},
   "source": [
    "### **구현 계획**\n",
    "<br>\n",
    "1. 사용자로부터 가격을 알고자 하는 상품의 이름을 입력받고, 이로부터 각 쇼핑 사이트 검색 결과에서 상품 상세 페이지로 들어가 상품명, 상품 가격(구매 옵션 있으면 구매 옵션별 가격), 묶음배송 상품정보, 상품 상세페이지 URL을 추출함 (이때, 쇼핑몰 사이트 별로 추출하는 코드를 각각 구현함) \n",
    "<br>\n",
    "<br>\n",
    "2. 이 중, 상품명, 상품 가격, 상품 상세 페이지 URL을 csv 형태로 저장 후 사용자에게 보여줌(이때, 상품 가격이 구매 옵션별로 다른 경우 각각의 상품명을 상품명 + 구매 옵션으로 저장 후 각각의 상품 가격을 저장)\n",
    "<br>\n",
    "<br>\n",
    "3. 사용자가 검색을 통해 얻은 상품들 중 특정 한 제품만 구매하고 싶은 경우, 그 상품에 대한 정보만 나타낼수 있도록 필터링 함\n",
    "<br>\n",
    "<br>\n",
    "4. 1. 2. 3.의 과정을 통해서 구매할 상품에 대한 정보를 얻은 후, 구매할 상품이 2개 이상인 경우 묶음배송 상품으로 구매 가능한지 여부를 알아보기 위해 각각의 상품의 묶음배송 상품정보를 2.에서 사용한 방법과 마찬가지로 상품명, 상품 가격, 상품 상세페이지 URL을 csv파일로 저장 후 구매하려하는 다른 상품명으로 검색하여 일치하는 상품이 있는지 확인\n",
    "<br>\n",
    "<br>\n",
    "5. 묶음배송 상품까지 확인한 후, 구매하려는 상품들을 최저가로 구매할 수 있는 조합을 5개까지 추천(기본값, 사용자 설정에 의해 추천하는 구매 조합의 개수를 늘릴 수 있음). 추천하는 조합의 개수를 여러개로 설정하는 이유는 가격 외에 구매를 결정하는 다른 조건(리뷰, 구매자 수 등)을 고려하기 위함."
   ]
  },
  {
   "cell_type": "code",
   "execution_count": 1,
   "metadata": {},
   "outputs": [],
   "source": [
    "import requests\n",
    "from bs4 import BeautifulSoup"
   ]
  },
  {
   "cell_type": "code",
   "execution_count": 2,
   "metadata": {},
   "outputs": [
    {
     "name": "stdout",
     "output_type": "stream",
     "text": [
      "<title>네이버쇼핑</title>\n"
     ]
    }
   ],
   "source": [
    "url = \"https://shopping.naver.com/\"\n",
    "res = requests.get(url)\n",
    "res.raise_for_status()\n",
    "\n",
    "soup = BeautifulSoup(res.text, \"lxml\")\n",
    "print(soup.title)"
   ]
  },
  {
   "cell_type": "code",
   "execution_count": 3,
   "metadata": {},
   "outputs": [
    {
     "name": "stdout",
     "output_type": "stream",
     "text": [
      "네이버쇼핑\n"
     ]
    }
   ],
   "source": [
    "print(soup.title.get_text())"
   ]
  },
  {
   "cell_type": "code",
   "execution_count": 5,
   "metadata": {},
   "outputs": [
    {
     "name": "stdout",
     "output_type": "stream",
     "text": [
      "{'href': '#lnb', 'onclick': \"document.getElementById('lnb').tabIndex=-1;document.getElementById('lnb').focus();return false;\"}\n"
     ]
    }
   ],
   "source": [
    "print(soup.a.attrs) # a elements의 속성 정보 출력"
   ]
  },
  {
   "cell_type": "code",
   "execution_count": 6,
   "metadata": {},
   "outputs": [
    {
     "name": "stdout",
     "output_type": "stream",
     "text": [
      "#lnb\n"
     ]
    }
   ],
   "source": [
    "print(soup.a[\"href\"]) # a element의 href 출력"
   ]
  },
  {
   "cell_type": "code",
   "execution_count": 8,
   "metadata": {},
   "outputs": [
    {
     "name": "stdout",
     "output_type": "stream",
     "text": [
      "<input accesskey=\"s\" autocomplete=\"off\" class=\"co_srh_input _input N=a:SNB.search\" maxlength=\"255\" name=\"query\" title=\"검색어 입력\" type=\"text\" value=\"\"/>\n"
     ]
    }
   ],
   "source": [
    "print(soup.find(\"input\", attrs={\"co_srh_input _input N=a:SNB.search\"}))"
   ]
  }
 ],
 "metadata": {
  "kernelspec": {
   "display_name": "Python 3",
   "language": "python",
   "name": "python3"
  },
  "language_info": {
   "codemirror_mode": {
    "name": "ipython",
    "version": 3
   },
   "file_extension": ".py",
   "mimetype": "text/x-python",
   "name": "python",
   "nbconvert_exporter": "python",
   "pygments_lexer": "ipython3",
   "version": "3.7.6"
  }
 },
 "nbformat": 4,
 "nbformat_minor": 4
}
